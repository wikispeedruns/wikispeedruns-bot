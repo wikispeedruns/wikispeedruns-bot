{
 "cells": [
  {
   "cell_type": "code",
   "execution_count": 1,
   "id": "b1a50f38-e283-4648-8b5d-523c0f39f354",
   "metadata": {},
   "outputs": [],
   "source": [
    "import wsbot\n",
    "\n",
    "from wsbot.search import GreedySearch, BeamSearch\n",
    "from wsbot.embeddings import LocalEmbeddings\n",
    "from wsbot.graph import ApiGraph\n"
   ]
  },
  {
   "cell_type": "code",
   "execution_count": 2,
   "id": "2835ae04-da02-4a15-b2fc-9003e6977b34",
   "metadata": {},
   "outputs": [
    {
     "name": "stdout",
     "output_type": "stream",
     "text": [
      "\"data/wiki2vec.txt.bz2\" already exists! Skipping...\n"
     ]
    }
   ],
   "source": [
    "# Script to get wiki2vec embeddings. Might need to install bunzip2\n",
    "!./get_embeddings.sh"
   ]
  },
  {
   "cell_type": "code",
   "execution_count": 3,
   "id": "d70ac22a-0c54-4dcb-a0ad-888277ad98ea",
   "metadata": {},
   "outputs": [
    {
     "ename": "KeyboardInterrupt",
     "evalue": "",
     "output_type": "error",
     "traceback": [
      "\u001b[0;31m---------------------------------------------------------------------------\u001b[0m",
      "\u001b[0;31mKeyboardInterrupt\u001b[0m                         Traceback (most recent call last)",
      "Cell \u001b[0;32mIn [3], line 1\u001b[0m\n\u001b[0;32m----> 1\u001b[0m embeddings_provider \u001b[38;5;241m=\u001b[39m \u001b[43mLocalEmbeddings\u001b[49m\u001b[43m(\u001b[49m\u001b[38;5;124;43m\"\u001b[39;49m\u001b[38;5;124;43mdata/wiki2vec.txt\u001b[39;49m\u001b[38;5;124;43m\"\u001b[39;49m\u001b[43m)\u001b[49m\n\u001b[1;32m      2\u001b[0m graph_provider \u001b[38;5;241m=\u001b[39m ApiGraph()\n",
      "File \u001b[0;32m~/ws2vec/wsbot/embeddings.py:14\u001b[0m, in \u001b[0;36mLocalEmbeddings.__init__\u001b[0;34m(self, filename)\u001b[0m\n\u001b[1;32m     13\u001b[0m \u001b[38;5;28;01mdef\u001b[39;00m \u001b[38;5;21m__init__\u001b[39m(\u001b[38;5;28mself\u001b[39m, filename: \u001b[38;5;28mstr\u001b[39m):\n\u001b[0;32m---> 14\u001b[0m     \u001b[38;5;28mself\u001b[39m\u001b[38;5;241m.\u001b[39mwiki2vec \u001b[38;5;241m=\u001b[39m \u001b[43mWikipedia2Vec\u001b[49m\u001b[38;5;241;43m.\u001b[39;49m\u001b[43mload_text\u001b[49m\u001b[43m(\u001b[49m\u001b[43mfilename\u001b[49m\u001b[43m)\u001b[49m\n",
      "File \u001b[0;32m~/ws2vec/env/lib/python3.8/site-packages/wikipedia2vec/wikipedia2vec.pyx:191\u001b[0m, in \u001b[0;36mwikipedia2vec.wikipedia2vec.Wikipedia2Vec.load_text\u001b[0;34m()\u001b[0m\n",
      "File \u001b[0;32m~/ws2vec/env/lib/python3.8/site-packages/wikipedia2vec/wikipedia2vec.pyx:210\u001b[0m, in \u001b[0;36mwikipedia2vec.wikipedia2vec.Wikipedia2Vec.load_text\u001b[0;34m()\u001b[0m\n",
      "\u001b[0;31mKeyboardInterrupt\u001b[0m: "
     ]
    }
   ],
   "source": [
    "embeddings_provider = LocalEmbeddings(\"data/wiki2vec.txt\")\n",
    "graph_provider = ApiGraph()"
   ]
  },
  {
   "cell_type": "code",
   "execution_count": null,
   "id": "45961327-3a27-4d9f-8774-fba7005d92c4",
   "metadata": {},
   "outputs": [],
   "source": [
    "# Parameters\n",
    "start = \"Walt Whitman\"\n",
    "end = \"Walt Disney\""
   ]
  },
  {
   "cell_type": "code",
   "execution_count": null,
   "id": "a9f74d72-c6f4-48b6-a204-98eab67a4499",
   "metadata": {},
   "outputs": [],
   "source": [
    "greedy = GreedySearch(embeddings_provider, graph_provider)\n",
    "greedy.search(start, end)\n"
   ]
  },
  {
   "cell_type": "code",
   "execution_count": null,
   "id": "b13051b9-ca6c-4374-a55a-a7a9a5c2557e",
   "metadata": {},
   "outputs": [],
   "source": [
    "# TODO, this makes too many requests for the Wikiepedia api to handle\n",
    "#beam = BeamSearch(embeddings_provider, graph_provider)\n",
    "#beam.search(start, end)\n"
   ]
  }
 ],
 "metadata": {
  "kernelspec": {
   "display_name": "Python 3 (ipykernel)",
   "language": "python",
   "name": "python3"
  },
  "language_info": {
   "codemirror_mode": {
    "name": "ipython",
    "version": 3
   },
   "file_extension": ".py",
   "mimetype": "text/x-python",
   "name": "python",
   "nbconvert_exporter": "python",
   "pygments_lexer": "ipython3",
   "version": "3.8.10"
  }
 },
 "nbformat": 4,
 "nbformat_minor": 5
}
