{
 "cells": [
  {
   "cell_type": "code",
   "execution_count": 17,
   "id": "b1a50f38-e283-4648-8b5d-523c0f39f354",
   "metadata": {},
   "outputs": [],
   "source": [
    "import wsbot\n",
    "\n",
    "from wsbot.search import GreedySearch, BeamSearch\n",
    "from wsbot.embeddings import LocalEmbeddings\n",
    "from wsbot.graph import APIGraph, SQLGraph\n"
   ]
  },
  {
   "cell_type": "code",
   "execution_count": 18,
   "id": "2835ae04-da02-4a15-b2fc-9003e6977b34",
   "metadata": {},
   "outputs": [
    {
     "name": "stdout",
     "output_type": "stream",
     "text": [
      "\"data/wiki2vec.txt.bz2\" already exists! Skipping...\n"
     ]
    }
   ],
   "source": [
    "# Script to get wiki2vec embeddings. Might need to install bunzip2\n",
    "!./get_embeddings.sh"
   ]
  },
  {
   "cell_type": "code",
   "execution_count": 19,
   "id": "bc150da1-3db6-4bb3-aaa4-ee0424a285c3",
   "metadata": {},
   "outputs": [],
   "source": [
    "embeddings_provider = LocalEmbeddings(\"data/wiki2vec.txt\")"
   ]
  },
  {
   "cell_type": "code",
   "execution_count": 20,
   "id": "80f41067-6001-4f48-b63e-adc869b592db",
   "metadata": {},
   "outputs": [],
   "source": [
    "graph_provider = APIGraph()\n",
    "# Use the wikipedia scraper_graph if you have it\n",
    "# graph_provider = SQLGraph(\"127.0.0.1\", \"user\", None, \"scraper_graph\")"
   ]
  },
  {
   "cell_type": "code",
   "execution_count": 21,
   "id": "45961327-3a27-4d9f-8774-fba7005d92c4",
   "metadata": {},
   "outputs": [],
   "source": [
    "# Parameters\n",
    "start = \"Walt Disney\"\n",
    "end = \"Walt Whitman\""
   ]
  },
  {
   "cell_type": "code",
   "execution_count": 22,
   "id": "a9f74d72-c6f4-48b6-a204-98eab67a4499",
   "metadata": {},
   "outputs": [
    {
     "data": {
      "text/plain": [
       "['Walt Disney',\n",
       " 'Abraham Lincoln',\n",
       " \"Abraham Lincoln's Lyceum address\",\n",
       " \"When Lilacs Last in the Dooryard Bloom'd\",\n",
       " 'Walt Whitman']"
      ]
     },
     "execution_count": 22,
     "metadata": {},
     "output_type": "execute_result"
    }
   ],
   "source": [
    "# Greedy (taking most similar link to end) sometimes fails \n",
    "greedy = GreedySearch(embeddings_provider, graph_provider)\n",
    "greedy.search(start, end)\n"
   ]
  },
  {
   "cell_type": "code",
   "execution_count": 23,
   "id": "b13051b9-ca6c-4374-a55a-a7a9a5c2557e",
   "metadata": {},
   "outputs": [
    {
     "name": "stdout",
     "output_type": "stream",
     "text": [
      "Articles in iteration 0:  ['Abraham Lincoln', 'Great Moments with Mr. Lincoln', 'Appeal to Reason (newspaper)', 'H. G. Wells', 'Ariel Dorfman', 'Chuck Jones', 'Flowers and Trees', 'Donald Duck', 'Frank Thomas (animator)', 'D. W. Griffith']\n",
      "Articles in iteration 1:  [\"When Lilacs Last in the Dooryard Bloom'd\", 'O Captain! My Captain!', 'Helen Keller', 'Malcolm Cowley', 'Cooper Union speech', 'Dorothy Richardson', 'G. K. Chesterton', \"Abraham Lincoln's Lyceum address\", 'Rudyard Kipling', 'Abolitionism in the United States']\n"
     ]
    },
    {
     "data": {
      "text/plain": [
       "['Walt Disney',\n",
       " 'Great Moments with Mr. Lincoln',\n",
       " \"When Lilacs Last in the Dooryard Bloom'd\",\n",
       " 'Walt Whitman']"
      ]
     },
     "execution_count": 23,
     "metadata": {},
     "output_type": "execute_result"
    }
   ],
   "source": [
    "# Beam search is a better approach (width 10 by default), and seems to get the answer consistently\n",
    "beam = BeamSearch(embeddings_provider, graph_provider)\n",
    "beam.search(start, end)\n"
   ]
  }
 ],
 "metadata": {
  "kernelspec": {
   "display_name": "Python 3 (ipykernel)",
   "language": "python",
   "name": "python3"
  },
  "language_info": {
   "codemirror_mode": {
    "name": "ipython",
    "version": 3
   },
   "file_extension": ".py",
   "mimetype": "text/x-python",
   "name": "python",
   "nbconvert_exporter": "python",
   "pygments_lexer": "ipython3",
   "version": "3.8.10"
  }
 },
 "nbformat": 4,
 "nbformat_minor": 5
}
