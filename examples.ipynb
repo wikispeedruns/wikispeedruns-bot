{
 "cells": [
  {
   "cell_type": "code",
   "execution_count": 13,
   "id": "b1a50f38-e283-4648-8b5d-523c0f39f354",
   "metadata": {},
   "outputs": [],
   "source": [
    "import wsbot\n",
    "\n",
    "from wsbot.search import GreedySearch, BeamSearch\n",
    "from wsbot.embeddings import LocalEmbeddings\n",
    "from wsbot.graph import APIGraph, SQLGraph\n"
   ]
  },
  {
   "cell_type": "code",
   "execution_count": 8,
   "id": "2835ae04-da02-4a15-b2fc-9003e6977b34",
   "metadata": {},
   "outputs": [
    {
     "name": "stdout",
     "output_type": "stream",
     "text": [
      "\"data/wiki2vec.txt\" already exists! Skipping...\n"
     ]
    }
   ],
   "source": [
    "# Script to get wiki2vec embeddings. Might need to install bunzip2\n",
    "!./get_embeddings.sh"
   ]
  },
  {
   "cell_type": "code",
   "execution_count": 4,
   "id": "bc150da1-3db6-4bb3-aaa4-ee0424a285c3",
   "metadata": {},
   "outputs": [],
   "source": [
    "embeddings_provider = LocalEmbeddings(\"data/wiki2vec.txt\")"
   ]
  },
  {
   "cell_type": "code",
   "execution_count": 9,
   "id": "80f41067-6001-4f48-b63e-adc869b592db",
   "metadata": {},
   "outputs": [],
   "source": [
    "graph_provider = APIGraph()\n",
    "# Use the wikipedia scraper_graph if you have it\n",
    "# graph_provider = SQLGraph(\"127.0.0.1\", \"user\", None, \"scraper_graph\")"
   ]
  },
  {
   "cell_type": "code",
   "execution_count": 14,
   "id": "45961327-3a27-4d9f-8774-fba7005d92c4",
   "metadata": {},
   "outputs": [],
   "source": [
    "# Parameters\n",
    "start = \"Education in France\"\n",
    "end = \"Google Maps\""
   ]
  },
  {
   "cell_type": "code",
   "execution_count": 15,
   "id": "a9f74d72-c6f4-48b6-a204-98eab67a4499",
   "metadata": {},
   "outputs": [
    {
     "data": {
      "text/plain": [
       "['Education in France',\n",
       " 'List of World Heritage Sites in France',\n",
       " 'The Architectural Work of Le Corbusier',\n",
       " 'Shiretoko National Park',\n",
       " 'Geographic coordinate system',\n",
       " 'Open Location Code',\n",
       " 'Geohash',\n",
       " 'Google Maps']"
      ]
     },
     "execution_count": 15,
     "metadata": {},
     "output_type": "execute_result"
    }
   ],
   "source": [
    "# Greedy (taking most similar link to end) sometimes fails \n",
    "greedy = GreedySearch(embeddings_provider, graph_provider)\n",
    "greedy.search(start, end)\n"
   ]
  },
  {
   "cell_type": "code",
   "execution_count": 16,
   "id": "b13051b9-ca6c-4374-a55a-a7a9a5c2557e",
   "metadata": {},
   "outputs": [
    {
     "name": "stdout",
     "output_type": "stream",
     "text": [
      "Articles in iteration 0:  ['List of World Heritage Sites in France', 'List of national parks of France', 'List of islands of France', 'Tourism in France', 'Telecommunications in France', 'Satellite campus', 'Economy of France', 'Immigration to France', 'Transport in France', 'Homework']\n",
      "Articles in iteration 1:  ['List of islands of Switzerland', 'Inmarsat', 'GeoNames', 'Business park', 'Groundscraper', 'Social media', 'The Architectural Work of Le Corbusier', 'Transport in Vatican City', 'Online video platform', 'List of World Heritage Sites in Russia']\n",
      "Articles in iteration 2:  ['Google Earth', 'Google', 'Gmail', 'List of image-sharing websites', 'Google Buzz', 'Flickr', 'Google+', 'Image sharing', 'FriendFeed', 'App.net']\n"
     ]
    },
    {
     "data": {
      "text/plain": [
       "['Education in France',\n",
       " 'List of islands of France',\n",
       " 'List of islands of Switzerland',\n",
       " 'Google Earth',\n",
       " 'Google Maps']"
      ]
     },
     "execution_count": 16,
     "metadata": {},
     "output_type": "execute_result"
    }
   ],
   "source": [
    "# Beam search is a better approach (width 10 by default), and seems to get the answer consistently\n",
    "beam = BeamSearch(embeddings_provider, graph_provider)\n",
    "beam.search(start, end)\n"
   ]
  },
  {
   "cell_type": "code",
   "execution_count": null,
   "id": "0b168cb4-32b8-4182-83f1-ec268d1030f1",
   "metadata": {},
   "outputs": [],
   "source": []
  }
 ],
 "metadata": {
  "kernelspec": {
   "display_name": "Python 3 (ipykernel)",
   "language": "python",
   "name": "python3"
  },
  "language_info": {
   "codemirror_mode": {
    "name": "ipython",
    "version": 3
   },
   "file_extension": ".py",
   "mimetype": "text/x-python",
   "name": "python",
   "nbconvert_exporter": "python",
   "pygments_lexer": "ipython3",
   "version": "3.11.5"
  }
 },
 "nbformat": 4,
 "nbformat_minor": 5
}
