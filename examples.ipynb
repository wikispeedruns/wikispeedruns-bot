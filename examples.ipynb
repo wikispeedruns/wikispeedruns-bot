{
 "cells": [
  {
   "cell_type": "code",
   "execution_count": 2,
   "id": "b1a50f38-e283-4648-8b5d-523c0f39f354",
   "metadata": {},
   "outputs": [],
   "source": [
    "import wsbot\n",
    "\n",
    "from wsbot.search import GreedySearch, BeamSearch\n",
    "from wsbot.embeddings import LocalEmbeddings\n",
    "from wsbot.graph import ApiGraph\n"
   ]
  },
  {
   "cell_type": "code",
   "execution_count": 3,
   "id": "2835ae04-da02-4a15-b2fc-9003e6977b34",
   "metadata": {},
   "outputs": [],
   "source": [
    "# TODO script to download example embeddings in ws2vec"
   ]
  },
  {
   "cell_type": "code",
   "execution_count": 4,
   "id": "d70ac22a-0c54-4dcb-a0ad-888277ad98ea",
   "metadata": {},
   "outputs": [],
   "source": [
    "embeddings_provider = LocalEmbeddings(\"ws2vec\")\n",
    "graph_provider = ApiGraph()"
   ]
  },
  {
   "cell_type": "code",
   "execution_count": 5,
   "id": "45961327-3a27-4d9f-8774-fba7005d92c4",
   "metadata": {},
   "outputs": [],
   "source": [
    "# Parameters\n",
    "start = \"Walt Whitman\"\n",
    "end = \"Walt Disney\""
   ]
  },
  {
   "cell_type": "code",
   "execution_count": 6,
   "id": "a9f74d72-c6f4-48b6-a204-98eab67a4499",
   "metadata": {},
   "outputs": [
    {
     "data": {
      "text/plain": [
       "['Walt Whitman', 'Ray Bradbury', 'Chuck Jones', 'Dick Huemer', 'Walt Disney']"
      ]
     },
     "execution_count": 6,
     "metadata": {},
     "output_type": "execute_result"
    }
   ],
   "source": [
    "greedy = GreedySearch(embeddings_provider, graph_provider)\n",
    "greedy.search(start, end)\n"
   ]
  },
  {
   "cell_type": "code",
   "execution_count": 8,
   "id": "b13051b9-ca6c-4374-a55a-a7a9a5c2557e",
   "metadata": {},
   "outputs": [],
   "source": [
    "# TODO, this makes too many requests for the Wikiepedia api to handle\n",
    "#beam = BeamSearch(embeddings_provider, graph_provider)\n",
    "#beam.search(start, end)\n"
   ]
  }
 ],
 "metadata": {
  "kernelspec": {
   "display_name": "Python 3 (ipykernel)",
   "language": "python",
   "name": "python3"
  },
  "language_info": {
   "codemirror_mode": {
    "name": "ipython",
    "version": 3
   },
   "file_extension": ".py",
   "mimetype": "text/x-python",
   "name": "python",
   "nbconvert_exporter": "python",
   "pygments_lexer": "ipython3",
   "version": "3.8.10"
  }
 },
 "nbformat": 4,
 "nbformat_minor": 5
}
